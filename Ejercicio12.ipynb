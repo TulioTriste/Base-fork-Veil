{
  "nbformat": 4,
  "nbformat_minor": 0,
  "metadata": {
    "colab": {
      "provenance": [],
      "authorship_tag": "ABX9TyOn5FMeZhq1/Jouw/Uxjn2i",
      "include_colab_link": true
    },
    "kernelspec": {
      "name": "python3",
      "display_name": "Python 3"
    },
    "language_info": {
      "name": "python"
    }
  },
  "cells": [
    {
      "cell_type": "markdown",
      "metadata": {
        "id": "view-in-github",
        "colab_type": "text"
      },
      "source": [
        "<a href=\"https://colab.research.google.com/github/TulioTriste/Base-fork-Veil/blob/master/Ejercicio12.ipynb\" target=\"_parent\"><img src=\"https://colab.research.google.com/assets/colab-badge.svg\" alt=\"Open In Colab\"/></a>"
      ]
    },
    {
      "cell_type": "code",
      "execution_count": null,
      "metadata": {
        "id": "kjYII5TzcDY9"
      },
      "outputs": [],
      "source": [
        "cont = True\n",
        "\n",
        "while cont:\n",
        "    try:\n",
        "        duoc_student = int(input(\"Ingrese '1' si es Estudiante de Duoc \\nIngrese '2' si no lo es \\nIngrese su respuesta: \"))\n",
        "\n",
        "        if (duoc_student != 1 and duoc_student != 2):\n",
        "            print(\"El valor ingresado no es correcto.\")\n",
        "            continue\n",
        "\n",
        "        cinema_type = int(input(\"Ingrese '1' si desea la entrada tipo Estreno ($4.800) \\nIngrese '2' si desea la entrada tipo Normal ($2.900) \\nIngrese su respuesta: \"))\n",
        "\n",
        "        if (cinema_type!= 1 and cinema_type != 2):\n",
        "            print(\"El valor ingresado no es correcto.\")\n",
        "            continue\n",
        "\n",
        "        amount_tickets = int(input(\"Ingrese la cantidad de entradas que desea: \"))\n",
        "\n",
        "        popcorn_boolf = int(input(\"Si desea palomitas ingrese '1', si no ingrese cualquier otro numero: \"))\n",
        "\n",
        "        if (popcorn_boolf == 1): \n",
        "            popcorn_val = int(print(\"1) Palomitas Pequeñas --> $2.500 \\n2) Palomitas Medianas --> $4.500 \\n3) Palomitas Grandes --> $7.800 \\nIngrese las palomitas que desea: \"))\n",
        "\n",
        "            if (popcorn_val != 1 and popcorn_val != 2 and popcorn_val != 3):\n",
        "                print(\"Porfavor ingrese alguna opcion de las ingresadas.\")\n",
        "                return\n",
        "    except ValueError:\n",
        "        print(\"Porfavor ingrese un numero.\")\n",
        "        continue\n",
        "    except:\n",
        "        print(\"El valor ingresado no es correcto.\")\n",
        "        continue\n",
        "\n",
        "    "
      ]
    }
  ]
}